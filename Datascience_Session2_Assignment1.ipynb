{
 "cells": [
  {
   "cell_type": "code",
   "execution_count": 1,
   "metadata": {},
   "outputs": [
    {
     "name": "stdout",
     "output_type": "stream",
     "text": [
      "Enter a sequence of comma generated numbers12,3\n",
      "['12', '3']\n"
     ]
    }
   ],
   "source": [
    "#Program to get a comma separated number as input and convert that into a list\n",
    "comma_numbers = input(\"Enter a sequence of comma generated numbers\")\n",
    "list = comma_numbers.split(\",\")\n",
    "print(list)"
   ]
  },
  {
   "cell_type": "code",
   "execution_count": 3,
   "metadata": {},
   "outputs": [
    {
     "name": "stdout",
     "output_type": "stream",
     "text": [
      "\n",
      "*\n",
      "**\n",
      "***\n",
      "****\n",
      "*****\n",
      "****\n",
      "***\n",
      "**\n",
      "*\n",
      "\n"
     ]
    }
   ],
   "source": [
    "#To make a pattern as depicted using nested loops\n",
    "outer_iter=list(range(1,3))\n",
    "inner_iter=list(range(0,6))\n",
    "star=\"*\"\n",
    "k=0\n",
    "for i in outer_iter:\n",
    "    if(i==2):\n",
    "        k-=2\n",
    "    for j in inner_iter:\n",
    "        if(k==-1):\n",
    "            break\n",
    "        print(star*k)\n",
    "        if(i==1):\n",
    "            k+=1\n",
    "        else:\n",
    "            k=k-1\n",
    "        \n",
    "        \n",
    "         \n",
    "        \n"
   ]
  },
  {
   "cell_type": "code",
   "execution_count": 1,
   "metadata": {},
   "outputs": [
    {
     "name": "stdout",
     "output_type": "stream",
     "text": [
      "Enter a word to reverseAcadGild\n"
     ]
    },
    {
     "data": {
      "text/plain": [
       "'dliGdacA'"
      ]
     },
     "execution_count": 1,
     "metadata": {},
     "output_type": "execute_result"
    }
   ],
   "source": [
    "#Reverses a word entered by User\n",
    "word=input(\"Enter a word to reverse\")\n",
    "word[::-1]"
   ]
  },
  {
   "cell_type": "code",
   "execution_count": 2,
   "metadata": {},
   "outputs": [
    {
     "name": "stdout",
     "output_type": "stream",
     "text": [
      "WE, THE PEOPLE OF INDIA,\n",
      "      having solemnly resolved to constitute India into a \n",
      "             SOVEREIGN,SOCIALIST, SECULAR, DEMOCRATIC REPUBLIC\n",
      "              and to secure to all its citizens\n",
      "\n"
     ]
    }
   ],
   "source": [
    "#format the below string in specified format\n",
    "#WE, THE PEOPLE OF INDIA, having solemnly resolved to constitute India into a SOVEREIGN,\n",
    "#SOCIALIST, SECULAR, DEMOCRATIC REPUBLIC and to secure to all its citizens\n",
    "solumn_string = \"WE, THE PEOPLE OF INDIA, having solemnly resolved to constitute India into a SOVEREIGN,SOCIALIST, SECULAR, DEMOCRATIC REPUBLIC and to secure to all its citizens\"\n",
    "string1=\"WE, THE PEOPLE OF INDIA,\"\n",
    "string2=\"      having solemnly resolved to constitute India into a \"\n",
    "string3=\"             SOVEREIGN,SOCIALIST, SECULAR, DEMOCRATIC REPUBLIC\"\n",
    "string4=\"              and to secure to all its citizens\"\n",
    "output_string=f\"\"\"{string1}\n",
    "{string2}\n",
    "{string3}\n",
    "{string4}\n",
    "\"\"\"\n",
    "print(output_string)\n"
   ]
  },
  {
   "cell_type": "code",
   "execution_count": null,
   "metadata": {
    "collapsed": true
   },
   "outputs": [],
   "source": []
  }
 ],
 "metadata": {
  "kernelspec": {
   "display_name": "Python 3",
   "language": "python",
   "name": "python3"
  },
  "language_info": {
   "codemirror_mode": {
    "name": "ipython",
    "version": 3
   },
   "file_extension": ".py",
   "mimetype": "text/x-python",
   "name": "python",
   "nbconvert_exporter": "python",
   "pygments_lexer": "ipython3",
   "version": "3.6.2"
  }
 },
 "nbformat": 4,
 "nbformat_minor": 2
}
